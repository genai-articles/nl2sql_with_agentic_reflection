{
 "cells": [
  {
   "cell_type": "code",
   "execution_count": null,
   "id": "0a27b020-3836-4b95-b00a-2502528dd184",
   "metadata": {},
   "outputs": [],
   "source": [
    "import reflection_tasks\n",
    "import example_cases\n",
    "import app_constants\n",
    "import json"
   ]
  },
  {
   "cell_type": "markdown",
   "id": "80b467fe-b684-4a83-b660-37e40b659115",
   "metadata": {},
   "source": [
    "### This is the main loop for the agentic reflection for NL to SQL generation."
   ]
  },
  {
   "cell_type": "code",
   "execution_count": null,
   "id": "80f9c70b-d355-4399-961e-21ae0dac886d",
   "metadata": {},
   "outputs": [],
   "source": [
    "def run(reflection_state):\n",
    "\n",
    "    iteration = 0\n",
    "    while True:\n",
    "        print(f\"----Execution state at current stage:---------\\n{json.dumps(reflection_state, indent=4)}\")\n",
    "\n",
    "        print(\"----Validation---------------------------------\")\n",
    "        # get validation result and analysis\n",
    "        validation_result = reflection_tasks.validation(reflection_state)\n",
    "        print(f\"Validation result:\\n{json.dumps(validation_result, indent=4)}\")\n",
    "\n",
    "        if validation_result['validation'] is True or \\\n",
    "                iteration >= app_constants.MAX_REFLECTION_ITERATIONS:\n",
    "            print(\"End of iterations\")\n",
    "            break  # break out of the iteration loop\n",
    "        else:\n",
    "            print(f\"Start iteration {iteration}\")\n",
    "\n",
    "        # prepare a prompt for reflection - \n",
    "        # using system prompt, user query, tables schema, \n",
    "        # tables rules, previously generated output\n",
    "        print(\"----Prepare prompt for reflection--------------\")\n",
    "        reflection_prompt = reflection_tasks.generate_reflection_prompt(reflection_state)\n",
    "        print(\"Prompt for performing reflection:\")\n",
    "        reflection_tasks.print_prompt(reflection_prompt)\n",
    "\n",
    "        # LLM's response to the prompt\n",
    "        print(\"----Invoke LLM to review and remedy------------\")\n",
    "        llm_response = reflection_tasks.llm_inference(reflection_prompt)\n",
    "\n",
    "        # print thinking\n",
    "        thinking = reflection_tasks.get_thinking_from_completion(llm_response)\n",
    "        print(f\"<thinking> tag in LLM's response:\\n{thinking.strip()}\")\n",
    "        print()\n",
    "\n",
    "        output_sql = reflection_tasks.get_sql_from_completion(llm_response)\n",
    "        print(f\"<sql> tag in LLM's response:\\n{output_sql.strip()}\")\n",
    "        reflection_tasks.set_sql_in_genoutput(reflection_state, output_sql)\n",
    "\n",
    "        iteration = iteration + 1\n",
    "        reflection_tasks.set_iteration_in_genoutput(reflection_state, iteration)\n",
    "        reflection_tasks.set_source_in_genoutput(reflection_state, 'Reflection-Pass')\n",
    "\n",
    "    return reflection_state, validation_result\n",
    "\n",
    "\n",
    "start = 0\n",
    "end = 1\n",
    "for example_case_index in range(start, end):\n",
    "    reflection_state = example_cases.get_example_case(example_case_index)\n",
    "    reflection_tasks.set_iteration_in_genoutput(reflection_state, 0)\n",
    "    reflection_tasks.set_source_in_genoutput(reflection_state, 'First-Pass')\n",
    "\n",
    "    generated, valresult = run(reflection_state)\n",
    "    print(\"===========================================================\\n\\n\")\n",
    "    print(f\"Validation: {valresult['validation']}\\nSQL: {generated['sql']}\")"
   ]
  }
 ],
 "metadata": {
  "kernelspec": {
   "display_name": "Python 3 (ipykernel)",
   "language": "python",
   "name": "python3"
  },
  "language_info": {
   "codemirror_mode": {
    "name": "ipython",
    "version": 3
   },
   "file_extension": ".py",
   "mimetype": "text/x-python",
   "name": "python",
   "nbconvert_exporter": "python",
   "pygments_lexer": "ipython3",
   "version": "3.11.9"
  }
 },
 "nbformat": 4,
 "nbformat_minor": 5
}
